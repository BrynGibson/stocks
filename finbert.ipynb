{
 "cells": [
  {
   "cell_type": "code",
   "execution_count": 33,
   "id": "5deced96",
   "metadata": {},
   "outputs": [],
   "source": [
    "from transformers import AutoTokenizer, AutoModelForSequenceClassification\n",
    "import torch\n",
    "import numpy as np\n"
   ]
  },
  {
   "cell_type": "code",
   "execution_count": 50,
   "id": "eda7b459",
   "metadata": {},
   "outputs": [
    {
     "data": {
      "application/vnd.jupyter.widget-view+json": {
       "model_id": "3aa2e0e92c814a9da1da5d0a9af29a3d",
       "version_major": 2,
       "version_minor": 0
      },
      "text/plain": [
       "Downloading:   0%|          | 0.00/1.29k [00:00<?, ?B/s]"
      ]
     },
     "metadata": {},
     "output_type": "display_data"
    },
    {
     "data": {
      "application/vnd.jupyter.widget-view+json": {
       "model_id": "e29097de7c1140408e59a7cb5ecfbe3f",
       "version_major": 2,
       "version_minor": 0
      },
      "text/plain": [
       "Downloading:   0%|          | 0.00/213k [00:00<?, ?B/s]"
      ]
     },
     "metadata": {},
     "output_type": "display_data"
    },
    {
     "data": {
      "application/vnd.jupyter.widget-view+json": {
       "model_id": "767ba7c5869f4b39aafef49493d37443",
       "version_major": 2,
       "version_minor": 0
      },
      "text/plain": [
       "Downloading:   0%|          | 0.00/112 [00:00<?, ?B/s]"
      ]
     },
     "metadata": {},
     "output_type": "display_data"
    },
    {
     "data": {
      "application/vnd.jupyter.widget-view+json": {
       "model_id": "bb3356fece3a4bc99d2ed9d3591ea00c",
       "version_major": 2,
       "version_minor": 0
      },
      "text/plain": [
       "Downloading:   0%|          | 0.00/40.0 [00:00<?, ?B/s]"
      ]
     },
     "metadata": {},
     "output_type": "display_data"
    },
    {
     "data": {
      "application/vnd.jupyter.widget-view+json": {
       "model_id": "7e63d83a296e4653948246c6a850a3c7",
       "version_major": 2,
       "version_minor": 0
      },
      "text/plain": [
       "Downloading:   0%|          | 0.00/433M [00:00<?, ?B/s]"
      ]
     },
     "metadata": {},
     "output_type": "display_data"
    }
   ],
   "source": [
    "tokenizer = AutoTokenizer.from_pretrained(\"ipuneetrathore/bert-base-cased-finetuned-finBERT\")\n",
    "model = AutoModelForSequenceClassification.from_pretrained(\"ipuneetrathore/bert-base-cased-finetuned-finBERT\")"
   ]
  },
  {
   "cell_type": "code",
   "execution_count": 24,
   "id": "edf40ab8",
   "metadata": {},
   "outputs": [],
   "source": [
    "sys.path.extend('C:\\\\Users\\\\sloth\\\\Desktop\\\\stonks\\\\finBERT\\\\finbert\\\\')"
   ]
  },
  {
   "cell_type": "code",
   "execution_count": 29,
   "id": "988cf247",
   "metadata": {},
   "outputs": [
    {
     "data": {
      "text/plain": [
       "tensor([[ 1.9150, -2.3791, -0.5665]], grad_fn=<AddmmBackward>)"
      ]
     },
     "execution_count": 29,
     "metadata": {},
     "output_type": "execute_result"
    }
   ],
   "source": [
    "inputs = tokenizer(\"Tesla stocks will go up next year.\", return_tensors=\"pt\")\n",
    "labels = torch.tensor([1]).unsqueeze(0)  # Batch size 1\n",
    "outputs = model(**inputs, labels=labels)\n",
    "\n",
    "\n",
    "\n",
    "outputs[1]"
   ]
  },
  {
   "cell_type": "code",
   "execution_count": 10,
   "id": "a865b451",
   "metadata": {},
   "outputs": [
    {
     "data": {
      "text/plain": [
       "tensor([[1]])"
      ]
     },
     "execution_count": 10,
     "metadata": {},
     "output_type": "execute_result"
    }
   ],
   "source": [
    "labels"
   ]
  },
  {
   "cell_type": "code",
   "execution_count": 27,
   "id": "45d0bf54",
   "metadata": {},
   "outputs": [
    {
     "ename": "ModuleNotFoundError",
     "evalue": "No module named 'finBERT'",
     "output_type": "error",
     "traceback": [
      "\u001b[1;31m---------------------------------------------------------------------------\u001b[0m",
      "\u001b[1;31mModuleNotFoundError\u001b[0m                       Traceback (most recent call last)",
      "\u001b[1;32m<ipython-input-27-c79c794d394e>\u001b[0m in \u001b[0;36m<module>\u001b[1;34m\u001b[0m\n\u001b[1;32m----> 1\u001b[1;33m \u001b[1;32mfrom\u001b[0m \u001b[0mfinBERT\u001b[0m \u001b[1;32mimport\u001b[0m \u001b[1;33m*\u001b[0m\u001b[1;33m\u001b[0m\u001b[1;33m\u001b[0m\u001b[0m\n\u001b[0m",
      "\u001b[1;31mModuleNotFoundError\u001b[0m: No module named 'finBERT'"
     ]
    }
   ],
   "source": [
    "from finBERT import *"
   ]
  },
  {
   "cell_type": "code",
   "execution_count": 28,
   "id": "bfa3ab3f",
   "metadata": {},
   "outputs": [],
   "source": []
  },
  {
   "cell_type": "code",
   "execution_count": 67,
   "id": "9467833d",
   "metadata": {},
   "outputs": [],
   "source": [
    "text = \"I am long on Tesla.\""
   ]
  },
  {
   "cell_type": "code",
   "execution_count": 71,
   "id": "86c89781",
   "metadata": {},
   "outputs": [],
   "source": [
    "def get_sentiment(text):\n",
    "    MAX_LEN = 160\n",
    "    class_names = [-1, 0, 1]\n",
    "\n",
    "    encoded_new = tokenizer.encode_plus(\n",
    "                            text,                      # Sentence to encode.\n",
    "                            add_special_tokens = True,        # Add '[CLS]' and '[SEP]'\n",
    "                            max_length = MAX_LEN,             # Pad & truncate all sentences.\n",
    "                            padding = True,\n",
    "                            return_attention_mask = True,     # Construct attn. masks.\n",
    "                            return_tensors = 'pt', \n",
    "                            truncation=True# Return pytorch tensors.\n",
    "                       )\n",
    "\n",
    "    # Add the encoded sentence to the list.    \n",
    "    input_idst = (encoded_new['input_ids'])\n",
    "    attention_maskst = (encoded_new['attention_mask'])\n",
    "\n",
    "    # Convert the lists into tensors.\n",
    "    input_idst = torch.cat([input_idst], dim=0)\n",
    "    attention_maskst = torch.cat([attention_maskst], dim=0)\n",
    "\n",
    "\n",
    "    new_test_output = model(input_idst, token_type_ids=None, \n",
    "                          attention_mask=attention_maskst)\n",
    "\n",
    "    logits = new_test_output[0]\n",
    "    predicted = logits.detach().numpy()\n",
    "\n",
    "    # Store predictions\n",
    "    flat_predictions = np.concatenate(predicted, axis=0)\n",
    "\n",
    "    # For each sample, pick the label (0 or 1) with the higher score.\n",
    "    new_predictions = np.argmax(flat_predictions).flatten()\n",
    "\n",
    "    return class_names[new_predictions[0]]"
   ]
  },
  {
   "cell_type": "code",
   "execution_count": 36,
   "id": "2747dcaf",
   "metadata": {},
   "outputs": [
    {
     "data": {
      "text/plain": [
       "array([0], dtype=int64)"
      ]
     },
     "execution_count": 36,
     "metadata": {},
     "output_type": "execute_result"
    }
   ],
   "source": [
    "new_predictions"
   ]
  },
  {
   "cell_type": "code",
   "execution_count": 38,
   "id": "3eb3162d",
   "metadata": {},
   "outputs": [
    {
     "data": {
      "text/plain": [
       "tensor([[ 1.8764, -1.7723, -1.4017]], grad_fn=<AddmmBackward>)"
      ]
     },
     "execution_count": 38,
     "metadata": {},
     "output_type": "execute_result"
    }
   ],
   "source": []
  },
  {
   "cell_type": "code",
   "execution_count": 43,
   "id": "703a3033",
   "metadata": {},
   "outputs": [
    {
     "data": {
      "text/plain": [
       "'I am bullish on Tesla for the next quarter. I think it is likely that Apple stock will rally.'"
      ]
     },
     "execution_count": 43,
     "metadata": {},
     "output_type": "execute_result"
    }
   ],
   "source": [
    "text"
   ]
  },
  {
   "cell_type": "code",
   "execution_count": 57,
   "id": "1283bbb1",
   "metadata": {},
   "outputs": [
    {
     "ename": "TypeError",
     "evalue": "Device() received an invalid combination of arguments - got (), but expected one of:\n * (torch.device device)\n * (str type, int index)\n",
     "output_type": "error",
     "traceback": [
      "\u001b[1;31m---------------------------------------------------------------------------\u001b[0m",
      "\u001b[1;31mTypeError\u001b[0m                                 Traceback (most recent call last)",
      "\u001b[1;32m<ipython-input-57-fe909b70420b>\u001b[0m in \u001b[0;36m<module>\u001b[1;34m\u001b[0m\n\u001b[1;32m----> 1\u001b[1;33m \u001b[0mtorch\u001b[0m\u001b[1;33m.\u001b[0m\u001b[0mdevice\u001b[0m\u001b[1;33m(\u001b[0m\u001b[1;33m)\u001b[0m\u001b[1;33m\u001b[0m\u001b[1;33m\u001b[0m\u001b[0m\n\u001b[0m",
      "\u001b[1;31mTypeError\u001b[0m: Device() received an invalid combination of arguments - got (), but expected one of:\n * (torch.device device)\n * (str type, int index)\n"
     ]
    }
   ],
   "source": [
    "torch.device()"
   ]
  },
  {
   "cell_type": "code",
   "execution_count": 58,
   "id": "b869d547",
   "metadata": {},
   "outputs": [
    {
     "data": {
      "text/plain": [
       "0"
      ]
     },
     "execution_count": 58,
     "metadata": {},
     "output_type": "execute_result"
    }
   ],
   "source": [
    "torch.cuda.current_device()"
   ]
  },
  {
   "cell_type": "code",
   "execution_count": 59,
   "id": "64afb1ec",
   "metadata": {},
   "outputs": [
    {
     "data": {
      "text/plain": [
       "True"
      ]
     },
     "execution_count": 59,
     "metadata": {},
     "output_type": "execute_result"
    }
   ],
   "source": [
    "torch.cuda.is_available() "
   ]
  },
  {
   "cell_type": "code",
   "execution_count": 60,
   "id": "9da20b92",
   "metadata": {},
   "outputs": [
    {
     "data": {
      "text/plain": [
       "'GeForce RTX 2080 Ti'"
      ]
     },
     "execution_count": 60,
     "metadata": {},
     "output_type": "execute_result"
    }
   ],
   "source": [
    "torch.cuda.get_device_name(0)"
   ]
  },
  {
   "cell_type": "code",
   "execution_count": 69,
   "id": "a64bef62",
   "metadata": {},
   "outputs": [],
   "source": [
    "text=\"If not, it's just $100....the only downer may be that the $100 came from selling off shares of STEV, and now it's climbing.\""
   ]
  },
  {
   "cell_type": "code",
   "execution_count": 77,
   "id": "dd1aaebc",
   "metadata": {},
   "outputs": [
    {
     "data": {
      "text/plain": [
       "0"
      ]
     },
     "execution_count": 77,
     "metadata": {},
     "output_type": "execute_result"
    }
   ],
   "source": [
    "get_sentiment(text)"
   ]
  },
  {
   "cell_type": "code",
   "execution_count": 76,
   "id": "fda545a7",
   "metadata": {},
   "outputs": [],
   "source": [
    "text = \"Buying 500 more shares on Monday\""
   ]
  },
  {
   "cell_type": "code",
   "execution_count": 74,
   "id": "485aeb80",
   "metadata": {},
   "outputs": [
    {
     "data": {
      "text/plain": [
       "'Buying 500 more shares on Monday 💰'"
      ]
     },
     "execution_count": 74,
     "metadata": {},
     "output_type": "execute_result"
    }
   ],
   "source": [
    "text"
   ]
  },
  {
   "cell_type": "code",
   "execution_count": null,
   "id": "ba35c193",
   "metadata": {},
   "outputs": [],
   "source": []
  }
 ],
 "metadata": {
  "kernelspec": {
   "display_name": "Python 3",
   "language": "python",
   "name": "python3"
  },
  "language_info": {
   "codemirror_mode": {
    "name": "ipython",
    "version": 3
   },
   "file_extension": ".py",
   "mimetype": "text/x-python",
   "name": "python",
   "nbconvert_exporter": "python",
   "pygments_lexer": "ipython3",
   "version": "3.8.10"
  }
 },
 "nbformat": 4,
 "nbformat_minor": 5
}
