{
 "cells": [
  {
   "cell_type": "code",
   "execution_count": 7,
   "id": "12545bc7",
   "metadata": {
    "scrolled": true
   },
   "outputs": [
    {
     "name": "stdout",
     "output_type": "stream",
     "text": [
      "[{'word': 'Me', 'score': 0.9967665076255798, 'entity': 'B-ORG', 'index': 48, 'start': 210, 'end': 212}, {'word': '##rc', 'score': 0.7191905975341797, 'entity': 'I-ORG', 'index': 49, 'start': 212, 'end': 214}, {'word': '##k', 'score': 0.9442145228385925, 'entity': 'I-ORG', 'index': 50, 'start': 214, 'end': 215}, {'word': 'AD', 'score': 0.9984226822853088, 'entity': 'B-ORG', 'index': 232, 'start': 959, 'end': 961}, {'word': '##C', 'score': 0.991492748260498, 'entity': 'I-ORG', 'index': 233, 'start': 961, 'end': 962}, {'word': '##B', 'score': 0.9747768640518188, 'entity': 'I-ORG', 'index': 234, 'start': 962, 'end': 963}, {'word': 'AD', 'score': 0.9987140893936157, 'entity': 'B-ORG', 'index': 242, 'start': 987, 'end': 989}, {'word': '##IA', 'score': 0.994172215461731, 'entity': 'I-ORG', 'index': 243, 'start': 989, 'end': 991}, {'word': 'Abu', 'score': 0.9966402649879456, 'entity': 'B-ORG', 'index': 245, 'start': 993, 'end': 996}, {'word': 'Dhabi', 'score': 0.994856059551239, 'entity': 'I-ORG', 'index': 246, 'start': 997, 'end': 1002}, {'word': 'Investment', 'score': 0.9978475570678711, 'entity': 'I-ORG', 'index': 247, 'start': 1003, 'end': 1013}, {'word': 'Authority', 'score': 0.9979677200317383, 'entity': 'I-ORG', 'index': 248, 'start': 1014, 'end': 1023}, {'word': 'S', 'score': 0.9931246638298035, 'entity': 'B-ORG', 'index': 250, 'start': 1025, 'end': 1026}, {'word': '##W', 'score': 0.6840274333953857, 'entity': 'I-ORG', 'index': 251, 'start': 1026, 'end': 1027}, {'word': '##F', 'score': 0.9796230792999268, 'entity': 'I-ORG', 'index': 252, 'start': 1027, 'end': 1028}, {'word': 'Company', 'score': 0.6424844861030579, 'entity': 'B-ORG', 'index': 356, 'start': 1480, 'end': 1487}]\n"
     ]
    }
   ],
   "source": [
    "import pandas as pd\n",
    "import numpy as np\n",
    "from pathlib import Path\n",
    "import re\n",
    "from transformers import AutoTokenizer, AutoModelForTokenClassification\n",
    "from transformers import pipeline\n",
    "\n",
    "tokenizer = AutoTokenizer.from_pretrained(\"dslim/bert-base-NER\")\n",
    "model = AutoModelForTokenClassification.from_pretrained(\"dslim/bert-base-NER\")\n",
    "\n",
    "nlp = pipeline(\"ner\", model=model, tokenizer=tokenizer)\n",
    "\n",
    "\n",
    "ner_results = nlp(text)\n",
    "print(ner_results)"
   ]
  },
  {
   "cell_type": "code",
   "execution_count": 9,
   "id": "984231ab",
   "metadata": {},
   "outputs": [],
   "source": [
    "text = 'It seems that every week or so there is a crazy rumour swirling around a different penny stock regarding a buyout/merger/collaboration. microsoft was going to buyout mvis, ktvo is merging or collaborating with Merck etc. etc. Ive only been playing pennies for a couple of months now and all these rumours got me wondering, has wild speculation every come true? can anyone site some examples?Copy and paste...An optimist from america.... Im bullish, but the maths is certainly not as simple as deducting the additional debt from the market cap. Its about the ability to service the debt out of NOI- and $6.5B is a far cry from $2,5B in debt service. thats what they are working on- getting the creditors to agree to debt restructure (and possibly reduction thru equity) at a longer term and lower rate. Obviously the debt holders would rather take worse terms than be subject to a liquidation, which is why they are playing ball. Once again, biggest holder is ADCB, which is 65% owned by ADIA (Abu Dhabi Investment Authority, SWF), so you have debt held by the worlds 3rd largest sovereign wealth fund which obviously has a high incentive to keep their largest health operator solvent and keep 20k people employed. Thats the story- I like our chances, but the news is going to be about creditors agreeing to new terms- which is why the CEOs memo on the 3 year turnaround plan is so bullish. Must be privy to such an effort (restructure) progressing in order to put that out to the Company. I think you are looking at $5 as soon as such a plan hits the tape, should that in fact happen. thats why im long.'"
   ]
  },
  {
   "cell_type": "code",
   "execution_count": 11,
   "id": "59ed651c",
   "metadata": {},
   "outputs": [
    {
     "data": {
      "text/plain": [
       "'It seems that every week or so there is a crazy rumour swirling around a different penny stock regarding a buyout/merger/collaboration. microsoft was going to buyout mvis, ktvo is merging or collaborating with Merck etc. etc. Ive only been playing pennies for a couple of months now and all these rumours got me wondering, has wild speculation every come true? can anyone site some examples?Copy and paste...An optimist from america.... Im bullish, but the maths is certainly not as simple as deducting the additional debt from the market cap. Its about the ability to service the debt out of NOI- and $6.5B is a far cry from $2,5B in debt service. thats what they are working on- getting the creditors to agree to debt restructure (and possibly reduction thru equity) at a longer term and lower rate. Obviously the debt holders would rather take worse terms than be subject to a liquidation, which is why they are playing ball. Once again, biggest holder is ADCB, which is 65% owned by ADIA (Abu Dhabi Investment Authority, SWF), so you have debt held by the worlds 3rd largest sovereign wealth fund which obviously has a high incentive to keep their largest health operator solvent and keep 20k people employed. Thats the story- I like our chances, but the news is going to be about creditors agreeing to new terms- which is why the CEOs memo on the 3 year turnaround plan is so bullish. Must be privy to such an effort (restructure) progressing in order to put that out to the Company. I think you are looking at $5 as soon as such a plan hits the tape, should that in fact happen. thats why im long.'"
      ]
     },
     "execution_count": 11,
     "metadata": {},
     "output_type": "execute_result"
    }
   ],
   "source": [
    "text"
   ]
  },
  {
   "cell_type": "code",
   "execution_count": 12,
   "id": "2dad3c9a",
   "metadata": {
    "scrolled": true
   },
   "outputs": [
    {
     "name": "stdout",
     "output_type": "stream",
     "text": [
      "Me B-ORG\n",
      "##rc I-ORG\n",
      "##k I-ORG\n",
      "AD B-ORG\n",
      "##C I-ORG\n",
      "##B I-ORG\n",
      "AD B-ORG\n",
      "##IA I-ORG\n",
      "Abu B-ORG\n",
      "Dhabi I-ORG\n",
      "Investment I-ORG\n",
      "Authority I-ORG\n",
      "S B-ORG\n",
      "##W I-ORG\n",
      "##F I-ORG\n",
      "Company B-ORG\n"
     ]
    }
   ],
   "source": [
    "for i in ner_results:\n",
    "    print(i[\"word\"], i [\"entity\"])"
   ]
  },
  {
   "cell_type": "code",
   "execution_count": 15,
   "id": "83627f83",
   "metadata": {},
   "outputs": [],
   "source": [
    "import spacy\n",
    "nlp = spacy.load(\"en_core_web_sm\")\n",
    "bad_pipe = [\"transformer\", \"tagger\", \"ner\", \"attribute_ruler\", \"lemmatizer\"]\n",
    "\n",
    "def sentencize(text):\n",
    "    doc = nlp(text, disable=bad_pipe)\n",
    "    sents = [s.text.strip() for s in doc.sents]\n",
    "    return sents"
   ]
  },
  {
   "cell_type": "code",
   "execution_count": 16,
   "id": "63dbfc81",
   "metadata": {},
   "outputs": [],
   "source": [
    "split = sentencize(text)"
   ]
  },
  {
   "cell_type": "code",
   "execution_count": 17,
   "id": "f25fe6e1",
   "metadata": {},
   "outputs": [
    {
     "data": {
      "text/plain": [
       "['It seems that every week or so there is a crazy rumour swirling around a different penny stock regarding a buyout/merger/collaboration.',\n",
       " 'microsoft was going to buyout mvis, ktvo is merging or collaborating with Merck etc.',\n",
       " 'etc.',\n",
       " 'Ive only been playing pennies for a couple of months now and all these rumours got me wondering, has wild speculation every come true?',\n",
       " 'can anyone site some examples?Copy and paste...',\n",
       " 'An optimist from america....',\n",
       " 'Im bullish, but the maths is certainly not as simple as deducting the additional debt from the market cap.',\n",
       " 'Its about the ability to service the debt out of NOI- and $6.5B is a far cry from $2,5B in debt service.',\n",
       " 'thats what they are working on- getting the creditors to agree to debt restructure (and possibly reduction thru equity) at a longer term and lower rate.',\n",
       " 'Obviously the debt holders would rather take worse terms than be subject to a liquidation, which is why they are playing ball.',\n",
       " 'Once again, biggest holder is ADCB, which is 65% owned by ADIA (Abu Dhabi Investment Authority, SWF), so you have debt held by the worlds 3rd largest sovereign wealth fund which obviously has a high incentive to keep their largest health operator solvent and keep 20k people employed.',\n",
       " 'Thats the story-',\n",
       " 'I like our chances, but the news is going to be about creditors agreeing to new terms- which is why the CEOs memo on the 3 year turnaround plan is so bullish.',\n",
       " 'Must be privy to such an effort (restructure) progressing in order to put that out to the Company.',\n",
       " 'I think you are looking at $5 as soon as such a plan hits the tape, should that in fact happen.',\n",
       " 'thats why im long.']"
      ]
     },
     "execution_count": 17,
     "metadata": {},
     "output_type": "execute_result"
    }
   ],
   "source": [
    "split"
   ]
  },
  {
   "cell_type": "code",
   "execution_count": 18,
   "id": "c03d6251",
   "metadata": {},
   "outputs": [
    {
     "data": {
      "application/vnd.jupyter.widget-view+json": {
       "model_id": "ab6b73f334b341959ea96e57f951c172",
       "version_major": 2,
       "version_minor": 0
      },
      "text/plain": [
       "Downloading:   0%|          | 0.00/2.24G [00:00<?, ?B/s]"
      ]
     },
     "metadata": {},
     "output_type": "display_data"
    },
    {
     "name": "stdout",
     "output_type": "stream",
     "text": [
      "2021-06-08 12:32:14,437 loading file C:\\Users\\sloth\\.flair\\models\\ner-english-large\\07301f59bb8cb113803be316267f06ddf9243cdbba92a4c8067ef92442d2c574.554244d3476d97501a766a98078421817b14654496b86f2f7bd139dc502a4f29\n"
     ]
    },
    {
     "data": {
      "application/vnd.jupyter.widget-view+json": {
       "model_id": "38fa9cf422a34fdd9ab1584b199374f7",
       "version_major": 2,
       "version_minor": 0
      },
      "text/plain": [
       "Downloading:   0%|          | 0.00/5.07M [00:00<?, ?B/s]"
      ]
     },
     "metadata": {},
     "output_type": "display_data"
    },
    {
     "data": {
      "application/vnd.jupyter.widget-view+json": {
       "model_id": "18dfce02e56a4b05a75de86eab8dd62f",
       "version_major": 2,
       "version_minor": 0
      },
      "text/plain": [
       "Downloading:   0%|          | 0.00/9.10M [00:00<?, ?B/s]"
      ]
     },
     "metadata": {},
     "output_type": "display_data"
    }
   ],
   "source": [
    "from flair.data import Sentence\n",
    "from flair.models import SequenceTagger\n",
    "\n",
    "# load tagger\n",
    "tagger = SequenceTagger.load(\"flair/ner-english-large\")\n",
    "\n",
    "# # make example sentence\n",
    "# sentence = Sentence(\"George Washington went to Washington\")\n",
    "\n",
    "# # predict NER tags\n",
    "# tagger.predict(sentence)\n",
    "\n",
    "# # print sentence\n",
    "# print(sentence)\n",
    "\n",
    "# # print predicted NER spans\n",
    "# print('The following NER tags are found:')\n",
    "# # iterate over entities and print\n",
    "# for entity in sentence.get_spans('ner'):\n",
    "#     print(entity)"
   ]
  },
  {
   "cell_type": "code",
   "execution_count": 30,
   "id": "b77d9634",
   "metadata": {},
   "outputs": [],
   "source": [
    "tagger.predict(sents)"
   ]
  },
  {
   "cell_type": "code",
   "execution_count": 28,
   "id": "0636d05b",
   "metadata": {},
   "outputs": [],
   "source": [
    "sents = [Sentence(s) for s in split]"
   ]
  },
  {
   "cell_type": "code",
   "execution_count": 31,
   "id": "eb109f11",
   "metadata": {},
   "outputs": [
    {
     "data": {
      "text/plain": [
       "[Sentence: \"It seems that every week or so there is a crazy rumour swirling around a different penny stock regarding a buyout / merger / collaboration .\"   [− Tokens: 26],\n",
       " Sentence: \"microsoft was going to buyout mvis , ktvo is merging or collaborating with Merck etc .\"   [− Tokens: 16  − Token-Labels: \"microsoft <S-ORG> was going to buyout mvis <S-ORG> , ktvo <S-ORG> is merging or collaborating with Merck <S-ORG> etc .\"],\n",
       " Sentence: \"etc .\"   [− Tokens: 2],\n",
       " Sentence: \"Ive only been playing pennies for a couple of months now and all these rumours got me wondering , has wild speculation every come true ?\"   [− Tokens: 26],\n",
       " Sentence: \"can anyone site some examples ? Copy and paste ...\"   [− Tokens: 10],\n",
       " Sentence: \"An optimist from america ... .\"   [− Tokens: 6],\n",
       " Sentence: \"Im bullish , but the maths is certainly not as simple as deducting the additional debt from the market cap .\"   [− Tokens: 21],\n",
       " Sentence: \"Its about the ability to service the debt out of NOI - and $ 6.5B is a far cry from $ 2,5B in debt service .\"   [− Tokens: 26],\n",
       " Sentence: \"thats what they are working on - getting the creditors to agree to debt restructure ( and possibly reduction thru equity ) at a longer term and lower rate .\"   [− Tokens: 30],\n",
       " Sentence: \"Obviously the debt holders would rather take worse terms than be subject to a liquidation , which is why they are playing ball .\"   [− Tokens: 24],\n",
       " Sentence: \"Once again , biggest holder is ADCB , which is 65 % owned by ADIA ( Abu Dhabi Investment Authority , SWF ) , so you have debt held by the worlds 3rd largest sovereign wealth fund which obviously has a high incentive to keep their largest health operator solvent and keep 20k people employed .\"   [− Tokens: 56  − Token-Labels: \"Once again , biggest holder is ADCB <S-ORG> , which is 65 % owned by ADIA <S-ORG> ( Abu <B-ORG> Dhabi <I-ORG> Investment <I-ORG> Authority <E-ORG> , SWF <S-ORG> ) , so you have debt held by the worlds 3rd largest sovereign wealth fund which obviously has a high incentive to keep their largest health operator solvent and keep 20k people employed .\"],\n",
       " Sentence: \"Thats the story -\"   [− Tokens: 4],\n",
       " Sentence: \"I like our chances , but the news is going to be about creditors agreeing to new terms - which is why the CEOs memo on the 3 year turnaround plan is so bullish .\"   [− Tokens: 35],\n",
       " Sentence: \"Must be privy to such an effort ( restructure ) progressing in order to put that out to the Company .\"   [− Tokens: 21],\n",
       " Sentence: \"I think you are looking at $ 5 as soon as such a plan hits the tape , should that in fact happen .\"   [− Tokens: 24],\n",
       " Sentence: \"thats why im long .\"   [− Tokens: 5]]"
      ]
     },
     "execution_count": 31,
     "metadata": {},
     "output_type": "execute_result"
    }
   ],
   "source": [
    "sents"
   ]
  },
  {
   "cell_type": "code",
   "execution_count": 38,
   "id": "3dbddc8c",
   "metadata": {},
   "outputs": [
    {
     "name": "stdout",
     "output_type": "stream",
     "text": [
      "[]\n",
      "['microsoft', 'mvis', 'ktvo', 'Merck']\n",
      "[]\n",
      "[]\n",
      "[]\n",
      "[]\n",
      "[]\n",
      "[]\n",
      "[]\n",
      "[]\n",
      "['ADCB', 'ADIA', 'Abu Dhabi Investment Authority', 'SWF']\n",
      "[]\n",
      "[]\n",
      "[]\n",
      "[]\n",
      "[]\n"
     ]
    }
   ],
   "source": [
    "for s in sents:\n",
    "    orgs = [n.text for n in s.get_spans(\"ner\")]\n",
    "    print(orgs)"
   ]
  },
  {
   "cell_type": "code",
   "execution_count": 37,
   "id": "0ea0f36b",
   "metadata": {},
   "outputs": [
    {
     "data": {
      "text/plain": [
       "[]"
      ]
     },
     "execution_count": 37,
     "metadata": {},
     "output_type": "execute_result"
    }
   ],
   "source": [
    "orgs"
   ]
  },
  {
   "cell_type": "code",
   "execution_count": null,
   "id": "a8fab5c4",
   "metadata": {},
   "outputs": [],
   "source": []
  }
 ],
 "metadata": {
  "kernelspec": {
   "display_name": "Python 3",
   "language": "python",
   "name": "python3"
  },
  "language_info": {
   "codemirror_mode": {
    "name": "ipython",
    "version": 3
   },
   "file_extension": ".py",
   "mimetype": "text/x-python",
   "name": "python",
   "nbconvert_exporter": "python",
   "pygments_lexer": "ipython3",
   "version": "3.8.10"
  }
 },
 "nbformat": 4,
 "nbformat_minor": 5
}
