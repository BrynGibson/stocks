{
 "cells": [
  {
   "cell_type": "code",
   "execution_count": 1,
   "id": "fca826ff",
   "metadata": {},
   "outputs": [],
   "source": [
    "import pandas as pd\n",
    "import numpy as np\n",
    "from pathlib import Path\n",
    "import re\n"
   ]
  },
  {
   "cell_type": "code",
   "execution_count": 2,
   "id": "c2b9affe",
   "metadata": {},
   "outputs": [],
   "source": [
    "stock_path = Path(r\"C:\\Users\\sloth\\Desktop\\stonks\\stonks\\data\\listing_status.csv\")"
   ]
  },
  {
   "cell_type": "code",
   "execution_count": 9,
   "id": "c48b1992",
   "metadata": {},
   "outputs": [],
   "source": [
    "df.to_csv(r\"C:\\Users\\sloth\\Desktop\\stonks\\stonks\\data\\cleaned_listings.csv\", index=False)"
   ]
  },
  {
   "cell_type": "code",
   "execution_count": 4,
   "id": "e88308e7",
   "metadata": {},
   "outputs": [],
   "source": [
    "df = pd.read_csv(stock_path)"
   ]
  },
  {
   "cell_type": "code",
   "execution_count": 5,
   "id": "d33a622a",
   "metadata": {},
   "outputs": [
    {
     "ename": "SyntaxError",
     "evalue": "unmatched ')' (<ipython-input-5-6cf8cff89724>, line 1)",
     "output_type": "error",
     "traceback": [
      "\u001b[1;36m  File \u001b[1;32m\"<ipython-input-5-6cf8cff89724>\"\u001b[1;36m, line \u001b[1;32m1\u001b[0m\n\u001b[1;33m    df[\"name\"][0])\u001b[0m\n\u001b[1;37m                 ^\u001b[0m\n\u001b[1;31mSyntaxError\u001b[0m\u001b[1;31m:\u001b[0m unmatched ')'\n"
     ]
    }
   ],
   "source": [
    "df[\"name\"][0])"
   ]
  },
  {
   "cell_type": "code",
   "execution_count": 7,
   "id": "3880d39d",
   "metadata": {
    "scrolled": true
   },
   "outputs": [],
   "source": [
    "df[\"fixed_name\"]=df[\"name\"].apply(fix_name)"
   ]
  },
  {
   "cell_type": "code",
   "execution_count": null,
   "id": "f0d64268",
   "metadata": {},
   "outputs": [],
   "source": [
    "re.sub(r'(inc|corp|etf|ltd|fund|na|n.a|)?', '', x, flags=re.IGNORECASE)\n",
    "\n"
   ]
  },
  {
   "cell_type": "code",
   "execution_count": 6,
   "id": "37545bd5",
   "metadata": {},
   "outputs": [],
   "source": [
    "def fix_name(x):\n",
    "    \n",
    "    if not pd.isnull(x):\n",
    "        subbed_name = re.sub(r'(corporation|inc|corp|etf|ltd|fund|na|n.a|)?', '', x, flags=re.IGNORECASE)\n",
    "        cleaned_name = subbed_name.split(\"-\")[0].strip()\n",
    "        return cleaned_name\n",
    "    return np.nan\n",
    "    "
   ]
  },
  {
   "cell_type": "code",
   "execution_count": 9,
   "id": "5c602f54",
   "metadata": {},
   "outputs": [],
   "source": [
    "text= \"VIRT,Virtu Financial Inc Class A\""
   ]
  },
  {
   "cell_type": "code",
   "execution_count": 10,
   "id": "60216fee",
   "metadata": {},
   "outputs": [
    {
     "data": {
      "text/plain": [
       "['VIRT,Virtu Financial Inc Class A']"
      ]
     },
     "execution_count": 10,
     "metadata": {},
     "output_type": "execute_result"
    }
   ],
   "source": [
    "text.split(\"-\")"
   ]
  },
  {
   "cell_type": "code",
   "execution_count": 8,
   "id": "d1c59520",
   "metadata": {},
   "outputs": [
    {
     "data": {
      "text/html": [
       "<div>\n",
       "<style scoped>\n",
       "    .dataframe tbody tr th:only-of-type {\n",
       "        vertical-align: middle;\n",
       "    }\n",
       "\n",
       "    .dataframe tbody tr th {\n",
       "        vertical-align: top;\n",
       "    }\n",
       "\n",
       "    .dataframe thead th {\n",
       "        text-align: right;\n",
       "    }\n",
       "</style>\n",
       "<table border=\"1\" class=\"dataframe\">\n",
       "  <thead>\n",
       "    <tr style=\"text-align: right;\">\n",
       "      <th></th>\n",
       "      <th>symbol</th>\n",
       "      <th>name</th>\n",
       "      <th>exchange</th>\n",
       "      <th>assetType</th>\n",
       "      <th>ipoDate</th>\n",
       "      <th>delistingDate</th>\n",
       "      <th>status</th>\n",
       "      <th>fixed_name</th>\n",
       "    </tr>\n",
       "  </thead>\n",
       "  <tbody>\n",
       "    <tr>\n",
       "      <th>0</th>\n",
       "      <td>A</td>\n",
       "      <td>Agilent Technologies Inc</td>\n",
       "      <td>NYSE</td>\n",
       "      <td>Stock</td>\n",
       "      <td>1999-11-18</td>\n",
       "      <td>NaN</td>\n",
       "      <td>Active</td>\n",
       "      <td>Agilent Technologies</td>\n",
       "    </tr>\n",
       "    <tr>\n",
       "      <th>1</th>\n",
       "      <td>AA</td>\n",
       "      <td>Alcoa Corp</td>\n",
       "      <td>NYSE</td>\n",
       "      <td>Stock</td>\n",
       "      <td>2016-11-01</td>\n",
       "      <td>NaN</td>\n",
       "      <td>Active</td>\n",
       "      <td>Alcoa</td>\n",
       "    </tr>\n",
       "    <tr>\n",
       "      <th>2</th>\n",
       "      <td>AAA</td>\n",
       "      <td>AAF First Priority CLO Bond ETF</td>\n",
       "      <td>NYSE ARCA</td>\n",
       "      <td>ETF</td>\n",
       "      <td>2020-09-09</td>\n",
       "      <td>NaN</td>\n",
       "      <td>Active</td>\n",
       "      <td>AAF First Priority CLO Bond</td>\n",
       "    </tr>\n",
       "    <tr>\n",
       "      <th>3</th>\n",
       "      <td>AAAU</td>\n",
       "      <td>Goldman Sachs Physical Gold ETF</td>\n",
       "      <td>NYSE ARCA</td>\n",
       "      <td>ETF</td>\n",
       "      <td>2018-08-15</td>\n",
       "      <td>NaN</td>\n",
       "      <td>Active</td>\n",
       "      <td>Goldman Sachs Physical Gold</td>\n",
       "    </tr>\n",
       "    <tr>\n",
       "      <th>4</th>\n",
       "      <td>AAC</td>\n",
       "      <td>Ares Acquisition Corporation - Class A</td>\n",
       "      <td>NYSE</td>\n",
       "      <td>Stock</td>\n",
       "      <td>2021-03-25</td>\n",
       "      <td>NaN</td>\n",
       "      <td>Active</td>\n",
       "      <td>Ares Acquisition</td>\n",
       "    </tr>\n",
       "    <tr>\n",
       "      <th>...</th>\n",
       "      <td>...</td>\n",
       "      <td>...</td>\n",
       "      <td>...</td>\n",
       "      <td>...</td>\n",
       "      <td>...</td>\n",
       "      <td>...</td>\n",
       "      <td>...</td>\n",
       "      <td>...</td>\n",
       "    </tr>\n",
       "    <tr>\n",
       "      <th>11031</th>\n",
       "      <td>ZYME</td>\n",
       "      <td>Zymeworks Inc</td>\n",
       "      <td>NYSE</td>\n",
       "      <td>Stock</td>\n",
       "      <td>2017-04-28</td>\n",
       "      <td>NaN</td>\n",
       "      <td>Active</td>\n",
       "      <td>Zymeworks</td>\n",
       "    </tr>\n",
       "    <tr>\n",
       "      <th>11032</th>\n",
       "      <td>ZYNE</td>\n",
       "      <td>Zynerba Pharmaceuticals Inc</td>\n",
       "      <td>NASDAQ</td>\n",
       "      <td>Stock</td>\n",
       "      <td>2015-08-05</td>\n",
       "      <td>NaN</td>\n",
       "      <td>Active</td>\n",
       "      <td>Zynerba Pharmaceuticals</td>\n",
       "    </tr>\n",
       "    <tr>\n",
       "      <th>11033</th>\n",
       "      <td>ZYXI</td>\n",
       "      <td>Zynex Inc</td>\n",
       "      <td>NASDAQ</td>\n",
       "      <td>Stock</td>\n",
       "      <td>2002-12-31</td>\n",
       "      <td>NaN</td>\n",
       "      <td>Active</td>\n",
       "      <td>Zynex</td>\n",
       "    </tr>\n",
       "    <tr>\n",
       "      <th>11034</th>\n",
       "      <td>ZZK</td>\n",
       "      <td>NaN</td>\n",
       "      <td>NYSE ARCA</td>\n",
       "      <td>Stock</td>\n",
       "      <td>2020-07-22</td>\n",
       "      <td>NaN</td>\n",
       "      <td>Active</td>\n",
       "      <td>NaN</td>\n",
       "    </tr>\n",
       "    <tr>\n",
       "      <th>11035</th>\n",
       "      <td>ZZZ</td>\n",
       "      <td>TEST TICKER FOR UTP</td>\n",
       "      <td>NYSE ARCA</td>\n",
       "      <td>Stock</td>\n",
       "      <td>2014-10-31</td>\n",
       "      <td>NaN</td>\n",
       "      <td>Active</td>\n",
       "      <td>TEST TICKER FOR UTP</td>\n",
       "    </tr>\n",
       "  </tbody>\n",
       "</table>\n",
       "<p>11036 rows × 8 columns</p>\n",
       "</div>"
      ],
      "text/plain": [
       "      symbol                                    name   exchange assetType  \\\n",
       "0          A                Agilent Technologies Inc       NYSE     Stock   \n",
       "1         AA                              Alcoa Corp       NYSE     Stock   \n",
       "2        AAA         AAF First Priority CLO Bond ETF  NYSE ARCA       ETF   \n",
       "3       AAAU         Goldman Sachs Physical Gold ETF  NYSE ARCA       ETF   \n",
       "4        AAC  Ares Acquisition Corporation - Class A       NYSE     Stock   \n",
       "...      ...                                     ...        ...       ...   \n",
       "11031   ZYME                           Zymeworks Inc       NYSE     Stock   \n",
       "11032   ZYNE             Zynerba Pharmaceuticals Inc     NASDAQ     Stock   \n",
       "11033   ZYXI                               Zynex Inc     NASDAQ     Stock   \n",
       "11034    ZZK                                     NaN  NYSE ARCA     Stock   \n",
       "11035    ZZZ                     TEST TICKER FOR UTP  NYSE ARCA     Stock   \n",
       "\n",
       "          ipoDate  delistingDate  status                   fixed_name  \n",
       "0      1999-11-18            NaN  Active         Agilent Technologies  \n",
       "1      2016-11-01            NaN  Active                        Alcoa  \n",
       "2      2020-09-09            NaN  Active  AAF First Priority CLO Bond  \n",
       "3      2018-08-15            NaN  Active  Goldman Sachs Physical Gold  \n",
       "4      2021-03-25            NaN  Active             Ares Acquisition  \n",
       "...           ...            ...     ...                          ...  \n",
       "11031  2017-04-28            NaN  Active                    Zymeworks  \n",
       "11032  2015-08-05            NaN  Active      Zynerba Pharmaceuticals  \n",
       "11033  2002-12-31            NaN  Active                        Zynex  \n",
       "11034  2020-07-22            NaN  Active                          NaN  \n",
       "11035  2014-10-31            NaN  Active          TEST TICKER FOR UTP  \n",
       "\n",
       "[11036 rows x 8 columns]"
      ]
     },
     "execution_count": 8,
     "metadata": {},
     "output_type": "execute_result"
    }
   ],
   "source": [
    "df"
   ]
  },
  {
   "cell_type": "code",
   "execution_count": null,
   "id": "f97d3c8f",
   "metadata": {},
   "outputs": [],
   "source": []
  }
 ],
 "metadata": {
  "kernelspec": {
   "display_name": "Python 3",
   "language": "python",
   "name": "python3"
  },
  "language_info": {
   "codemirror_mode": {
    "name": "ipython",
    "version": 3
   },
   "file_extension": ".py",
   "mimetype": "text/x-python",
   "name": "python",
   "nbconvert_exporter": "python",
   "pygments_lexer": "ipython3",
   "version": "3.8.10"
  }
 },
 "nbformat": 4,
 "nbformat_minor": 5
}
