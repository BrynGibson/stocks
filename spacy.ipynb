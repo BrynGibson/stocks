{
 "cells": [
  {
   "cell_type": "code",
   "execution_count": 23,
   "id": "a1afeaca",
   "metadata": {
    "scrolled": false
   },
   "outputs": [],
   "source": [
    "nlp = spacy.blank(\"en\")"
   ]
  },
  {
   "cell_type": "code",
   "execution_count": null,
   "id": "d754a517",
   "metadata": {},
   "outputs": [],
   "source": []
  },
  {
   "cell_type": "code",
   "execution_count": 66,
   "id": "73957190",
   "metadata": {},
   "outputs": [],
   "source": [
    "nlp = spacy.load(\"en_core_web_sm\")"
   ]
  },
  {
   "cell_type": "code",
   "execution_count": 38,
   "id": "813e3b37",
   "metadata": {},
   "outputs": [],
   "source": [
    "bad_pipe = [\"transformer\", \"tagger\", \"ner\", \"attribute_ruler\", \"lemmatizer\"]"
   ]
  },
  {
   "cell_type": "code",
   "execution_count": 4,
   "id": "6aa59b2b",
   "metadata": {},
   "outputs": [],
   "source": [
    "text = \"Same here. I dropped $100 last week when it was at .0011. Hoping all the hype is true, it will be a fun ride. If not, it's just $100....the only downer may be that the $100 came from selling off shares of STEV, and now it's climbing. \""
   ]
  },
  {
   "cell_type": "code",
   "execution_count": 39,
   "id": "2fb71f55",
   "metadata": {},
   "outputs": [],
   "source": [
    "doc = nlp(text, disable=bad_pipe)"
   ]
  },
  {
   "cell_type": "code",
   "execution_count": 35,
   "id": "515404fe",
   "metadata": {},
   "outputs": [],
   "source": [
    "nlp??"
   ]
  },
  {
   "cell_type": "code",
   "execution_count": 13,
   "id": "4ebcbcc8",
   "metadata": {},
   "outputs": [
    {
     "name": "stderr",
     "output_type": "stream",
     "text": [
      "<ipython-input-13-3aef1413076c>:1: DeprecationWarning: [W107] The property `Doc.is_sentenced` is deprecated. Use `Doc.has_annotation(\"SENT_START\")` instead.\n",
      "  doc.is_sentenced\n"
     ]
    },
    {
     "data": {
      "text/plain": [
       "True"
      ]
     },
     "execution_count": 13,
     "metadata": {},
     "output_type": "execute_result"
    }
   ],
   "source": [
    "doc.is_sentenced"
   ]
  },
  {
   "cell_type": "code",
   "execution_count": 58,
   "id": "a28bcd6b",
   "metadata": {},
   "outputs": [
    {
     "name": "stdout",
     "output_type": "stream",
     "text": [
      "Same here. I dropped $100 last week when it was at .0011. Hoping all the hype is true, it will be a fun ride. If not, it's just $100....the only downer may be that the $100 came from selling off shares of STEV, and now it's climbing.\n"
     ]
    }
   ],
   "source": [
    "for i in doc.sents:\n",
    "    print(i.text)"
   ]
  },
  {
   "cell_type": "code",
   "execution_count": 41,
   "id": "2bca9cfe",
   "metadata": {},
   "outputs": [
    {
     "data": {
      "text/plain": [
       "[('tok2vec', <spacy.pipeline.tok2vec.Tok2Vec at 0x171e2f10130>),\n",
       " ('tagger', <spacy.pipeline.tagger.Tagger at 0x171e2a8ce50>),\n",
       " ('parser', <spacy.pipeline.dep_parser.DependencyParser at 0x171e291aa00>),\n",
       " ('ner', <spacy.pipeline.ner.EntityRecognizer at 0x171e25abf40>),\n",
       " ('attribute_ruler',\n",
       "  <spacy.pipeline.attributeruler.AttributeRuler at 0x171e235f200>),\n",
       " ('lemmatizer', <spacy.lang.en.lemmatizer.EnglishLemmatizer at 0x171e2351a00>)]"
      ]
     },
     "execution_count": 41,
     "metadata": {},
     "output_type": "execute_result"
    }
   ],
   "source": [
    "nlp.pipeline"
   ]
  },
  {
   "cell_type": "code",
   "execution_count": 64,
   "id": "d867ccd0",
   "metadata": {},
   "outputs": [
    {
     "name": "stdout",
     "output_type": "stream",
     "text": [
      "a good time\n",
      "long-term\n",
      "this company\n",
      "the drop\n",
      "share price\n",
      "dilution\n",
      "equity fundraising\n",
      "Their current deal\n",
      "Aspire Capital\n",
      "stockholders\n",
      "another 50%\n",
      "the future\n",
      "the other hand\n",
      "lithium\n",
      "high demand\n",
      "they\n",
      "successful exploration\n",
      "Nevada\n",
      "good timing\n",
      "the next cycle\n",
      "this company\n",
      "I\n",
      "them\n",
      "any junior miner\n",
      "them\n",
      "they\n"
     ]
    }
   ],
   "source": [
    "for chunk in doc.noun_chunks:\n",
    "    print(chunk.text)"
   ]
  },
  {
   "cell_type": "code",
   "execution_count": 68,
   "id": "931f086c",
   "metadata": {},
   "outputs": [
    {
     "data": {
      "text/plain": [
       "[2016-2017 has not been a good time to be long-term with this company, between the drop in share price and dilution through equity fundraising.,\n",
       " Their current deal with Aspire Capital could dilute stockholders by another 50% in the future.,\n",
       " \n",
       " \n",
       " On the other hand, lithium is in high demand and they're claiming successful exploration in Nevada so this could be good timing for the next cycle for this company.,\n",
       " \n",
       " \n",
       " I'd personally treat them like any junior miner -- don't trust them until they're actually producing.]"
      ]
     },
     "execution_count": 68,
     "metadata": {},
     "output_type": "execute_result"
    }
   ],
   "source": [
    "doc = nlp(text)\n"
   ]
  },
  {
   "cell_type": "code",
   "execution_count": 75,
   "id": "17520d0e",
   "metadata": {},
   "outputs": [
    {
     "name": "stdout",
     "output_type": "stream",
     "text": [
      "2016-2017 has not been a good time to be long-term with this company, between the drop in share price and dilution through equity fundraising.\n",
      "end\n",
      "Their current deal with Aspire Capital could dilute stockholders by another 50% in the future.\n",
      "end\n",
      " \n",
      "end\n",
      "On the other hand, lithium is in high demand and they're claiming successful exploration in Nevada so this could be good timing for the next cycle for this company.\n",
      "end\n",
      " \n",
      "end\n",
      "I'd personally treat them like any junior miner -- don't trust them until they're actually producing.\n",
      "end\n"
     ]
    }
   ],
   "source": [
    "doc = nlp(text)\n",
    "for i in doc.sents:\n",
    "    print(i.text)\n",
    "    print(\"end\")"
   ]
  },
  {
   "cell_type": "code",
   "execution_count": 105,
   "id": "74f807ca",
   "metadata": {},
   "outputs": [
    {
     "data": {
      "text/plain": [
       "[2016-2017 has not been a good time to be long-term with this company, between the drop in share price and dilution through equity fundraising.,\n",
       " Their current deal with Aspire Capital could dilute stockholders by another 50% in the future.,\n",
       "  ,\n",
       " On the other hand, lithium is in high demand and they're claiming successful exploration in Nevada so this could be good timing for the next cycle for this company.,\n",
       "  ,\n",
       " I'd personally treat them like any junior miner -- don't trust them until they're actually producing.]"
      ]
     },
     "execution_count": 105,
     "metadata": {},
     "output_type": "execute_result"
    }
   ],
   "source": [
    "list(doc.sents)"
   ]
  },
  {
   "cell_type": "code",
   "execution_count": 53,
   "id": "be6b1c80",
   "metadata": {},
   "outputs": [
    {
     "ename": "NameError",
     "evalue": "name 'senter' is not defined",
     "output_type": "error",
     "traceback": [
      "\u001b[1;31m---------------------------------------------------------------------------\u001b[0m",
      "\u001b[1;31mNameError\u001b[0m                                 Traceback (most recent call last)",
      "\u001b[1;32m<ipython-input-53-e01f56b11006>\u001b[0m in \u001b[0;36m<module>\u001b[1;34m\u001b[0m\n\u001b[1;32m----> 1\u001b[1;33m \u001b[0msenter\u001b[0m\u001b[1;33m\u001b[0m\u001b[1;33m\u001b[0m\u001b[0m\n\u001b[0m",
      "\u001b[1;31mNameError\u001b[0m: name 'senter' is not defined"
     ]
    }
   ],
   "source": [
    "senter"
   ]
  },
  {
   "cell_type": "code",
   "execution_count": 67,
   "id": "06107be8",
   "metadata": {},
   "outputs": [],
   "source": [
    "doc = nlp(text)"
   ]
  },
  {
   "cell_type": "code",
   "execution_count": 59,
   "id": "c1d4d1dc",
   "metadata": {},
   "outputs": [],
   "source": [
    "text = '&gt;the only graphite production center \\n\\nthis might pan out well, with GEOTUS insisting on domestic production'"
   ]
  },
  {
   "cell_type": "code",
   "execution_count": 87,
   "id": "5c565274",
   "metadata": {},
   "outputs": [],
   "source": [
    "text = \"2016-2017 has not been a good time to be long-term with this company, between the drop in share price and dilution through equity fundraising. Their current deal with Aspire Capital could dilute stockholders by another 50% in the future.\\n\\nOn the other hand, lithium is in high demand and they're claiming successful exploration in Nevada so this could be good timing for the next cycle for this company.\\n\\nI'd personally treat them like any junior miner -- don't trust them until they're actually producing.\""
   ]
  },
  {
   "cell_type": "code",
   "execution_count": 103,
   "id": "70b9d398",
   "metadata": {},
   "outputs": [],
   "source": [
    "text = \"\\n\".join([ll.rstrip() for ll in text.splitlines() if ll.strip()])"
   ]
  },
  {
   "cell_type": "code",
   "execution_count": 104,
   "id": "48bd0eb6",
   "metadata": {},
   "outputs": [
    {
     "data": {
      "text/plain": [
       "\"2016-2017 has not been a good time to be long-term with this company, between the drop in share price and dilution through equity fundraising. Their current deal with Aspire Capital could dilute stockholders by another 50% in the future.\\nOn the other hand, lithium is in high demand and they're claiming successful exploration in Nevada so this could be good timing for the next cycle for this company.\\nI'd personally treat them like any junior miner -- don't trust them until they're actually producing.\""
      ]
     },
     "execution_count": 104,
     "metadata": {},
     "output_type": "execute_result"
    }
   ],
   "source": [
    "text"
   ]
  },
  {
   "cell_type": "code",
   "execution_count": null,
   "id": "e2142dfe",
   "metadata": {},
   "outputs": [],
   "source": []
  }
 ],
 "metadata": {
  "kernelspec": {
   "display_name": "Python 3",
   "language": "python",
   "name": "python3"
  },
  "language_info": {
   "codemirror_mode": {
    "name": "ipython",
    "version": 3
   },
   "file_extension": ".py",
   "mimetype": "text/x-python",
   "name": "python",
   "nbconvert_exporter": "python",
   "pygments_lexer": "ipython3",
   "version": "3.8.10"
  }
 },
 "nbformat": 4,
 "nbformat_minor": 5
}
